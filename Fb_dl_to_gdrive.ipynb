{
  "nbformat": 4,
  "nbformat_minor": 0,
  "metadata": {
    "colab": {
      "name": "Fb-dl-to-gdrive.ipynb",
      "provenance": [],
      "toc_visible": true,
      "mount_file_id": "1-MER0o0kKPOsmjVvmf2pxS-Qol_KCjoM",
      "authorship_tag": "ABX9TyOg3cy8wOzNKcwjGgyESUOY",
      "include_colab_link": true
    },
    "kernelspec": {
      "name": "python3",
      "display_name": "Python 3"
    }
  },
  "cells": [
    {
      "cell_type": "markdown",
      "metadata": {
        "id": "view-in-github",
        "colab_type": "text"
      },
      "source": [
        "<a href=\"https://colab.research.google.com/github/quanganhbn/Facebook-Video-Downloader/blob/master/Fb_dl_to_gdrive.ipynb\" target=\"_parent\"><img src=\"https://colab.research.google.com/assets/colab-badge.svg\" alt=\"Open In Colab\"/></a>"
      ]
    },
    {
      "cell_type": "code",
      "metadata": {
        "id": "GOhL7rGo53rI"
      },
      "source": [
        "!git clone https://github.com/sameera-madushan/Facebook-Video-Downloader.git"
      ],
      "execution_count": null,
      "outputs": []
    },
    {
      "cell_type": "code",
      "metadata": {
        "id": "P_-3oJS_6q_A"
      },
      "source": [
        "cd Facebook-Video-Downloader"
      ],
      "execution_count": null,
      "outputs": []
    },
    {
      "cell_type": "code",
      "metadata": {
        "id": "rAXFWPmQ6vm6"
      },
      "source": [
        "!pip3 install -r requirements.txt"
      ],
      "execution_count": null,
      "outputs": []
    },
    {
      "cell_type": "code",
      "metadata": {
        "id": "XbQyd4vO6zwK"
      },
      "source": [
        "!python downloader.py"
      ],
      "execution_count": null,
      "outputs": []
    },
    {
      "cell_type": "code",
      "metadata": {
        "id": "i_9zy6Qq7oK3"
      },
      "source": [
        "!mv /content/Facebook-Video-Downloader \"/content/drive/My Drive/Facebook Video Download\""
      ],
      "execution_count": 10,
      "outputs": []
    }
  ]
}