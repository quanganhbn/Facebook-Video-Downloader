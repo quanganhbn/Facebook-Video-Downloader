{
  "nbformat": 4,
  "nbformat_minor": 0,
  "metadata": {
    "colab": {
      "name": "Fb-dl-to-gdrive.ipynb",
      "provenance": [],
      "collapsed_sections": [],
      "include_colab_link": true
    },
    "kernelspec": {
      "name": "python3",
      "display_name": "Python 3"
    }
  },
  "cells": [
    {
      "cell_type": "markdown",
      "metadata": {
        "id": "view-in-github",
        "colab_type": "text"
      },
      "source": [
        "<a href=\"https://colab.research.google.com/github/quanganhbn/Facebook-Video-Downloader/blob/master/Fb_dl_to_gdrive.ipynb\" target=\"_parent\"><img src=\"https://colab.research.google.com/assets/colab-badge.svg\" alt=\"Open In Colab\"/></a>"
      ]
    },
    {
      "cell_type": "code",
      "metadata": {
        "id": "71CTnaBt_heO",
        "cellView": "form"
      },
      "source": [
        "#@markdown <h3>⬅ Bước 1: Run This Cell to  Mount Gdrive\n",
        "from google.colab import drive\n",
        "drive.mount( '/content/gdrive' )"
      ],
      "execution_count": null,
      "outputs": []
    },
    {
      "cell_type": "code",
      "metadata": {
        "id": "GOhL7rGo53rI",
        "cellView": "form"
      },
      "source": [
        "#@markdown <h3>⬅ Bước 2: Cài đặt\n",
        "!git clone https://github.com/sameera-madushan/Facebook-Video-Downloader.git\n",
        "%cd Facebook-Video-Downloader\n",
        "!pip3 install -r requirements.txt\n",
        "from IPython.display import HTML, clear_output\n",
        "clear_output()\n",
        "print(\"Cài Đặt Thành Công\")"
      ],
      "execution_count": null,
      "outputs": []
    },
    {
      "cell_type": "code",
      "metadata": {
        "id": "XbQyd4vO6zwK",
        "cellView": "form",
        "outputId": "ee46568a-71ea-481e-8d5f-06786559172c",
        "colab": {
          "base_uri": "https://localhost:8080/",
          "height": 34
        }
      },
      "source": [
        "#@markdown <h3>⬅ Bước 3: Tải\n",
        "!python downloader.py\n",
        "from IPython.display import HTML, clear_output\n",
        "clear_output()\n",
        "print(\"Đã tải xong\")"
      ],
      "execution_count": 7,
      "outputs": [
        {
          "output_type": "stream",
          "text": [
            "Đã tải xong\n"
          ],
          "name": "stdout"
        }
      ]
    },
    {
      "cell_type": "code",
      "metadata": {
        "id": "i_9zy6Qq7oK3"
      },
      "source": [
        "#@markdown <h3>⬅ Bước 4: Move to Gdrive\n",
        "!mv /content/Facebook-Video-Downloader \"/content/gdrive/My Drive/Facebook Video Download\""
      ],
      "execution_count": null,
      "outputs": []
    }
  ]
}